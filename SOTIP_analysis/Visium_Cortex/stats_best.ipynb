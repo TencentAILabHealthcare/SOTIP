{
 "cells": [
  {
   "cell_type": "code",
   "execution_count": 3,
   "id": "6f54f653-3cd0-4644-b148-f064deed7366",
   "metadata": {},
   "outputs": [],
   "source": [
    "from sotip import *\n",
    "import pandas as pd"
   ]
  },
  {
   "cell_type": "code",
   "execution_count": 2,
   "id": "199d7be4-d86d-4a0b-a8ed-6516f8541912",
   "metadata": {},
   "outputs": [],
   "source": [
    "data_name_list = ['151507','151508','151509','151510',\n",
    "            '151669','151670','151671','151672','151673','151674','151675','151676']"
   ]
  },
  {
   "cell_type": "code",
   "execution_count": 14,
   "id": "8a4a2768-2d6b-4ef6-b884-55c07c84b8bf",
   "metadata": {},
   "outputs": [],
   "source": [
    "rst_list = []\n",
    "for data_name in data_name_list:\n",
    "    cur_data_rst = pd.read_csv(f'search_{data_name}/sotip_search_PCA100_cellknn15_hvgFalse.csv')\n",
    "    cur_data_rst['sample'] = data_name\n",
    "    rst_list.append(cur_data_rst)"
   ]
  },
  {
   "cell_type": "code",
   "execution_count": 21,
   "id": "55149172-edeb-4b34-bc07-328ea89631fe",
   "metadata": {},
   "outputs": [],
   "source": [
    "rst_all = pd.concat(rst_list)"
   ]
  },
  {
   "cell_type": "code",
   "execution_count": 27,
   "id": "6168c6c0-a4a9-438e-bd16-ace6649efd7c",
   "metadata": {},
   "outputs": [],
   "source": [
    "rst_all.to_csv('SpatialLIBD_search.csv')"
   ]
  },
  {
   "cell_type": "code",
   "execution_count": 26,
   "id": "d3f1dd1c-9e57-4f0e-a492-811907e4ef93",
   "metadata": {},
   "outputs": [
    {
     "data": {
      "text/html": [
       "<div>\n",
       "<style scoped>\n",
       "    .dataframe tbody tr th:only-of-type {\n",
       "        vertical-align: middle;\n",
       "    }\n",
       "\n",
       "    .dataframe tbody tr th {\n",
       "        vertical-align: top;\n",
       "    }\n",
       "\n",
       "    .dataframe thead th {\n",
       "        text-align: right;\n",
       "    }\n",
       "</style>\n",
       "<table border=\"1\" class=\"dataframe\">\n",
       "  <thead>\n",
       "    <tr style=\"text-align: right;\">\n",
       "      <th></th>\n",
       "      <th>max</th>\n",
       "    </tr>\n",
       "    <tr>\n",
       "      <th>sample</th>\n",
       "      <th></th>\n",
       "    </tr>\n",
       "  </thead>\n",
       "  <tbody>\n",
       "    <tr>\n",
       "      <th>151507</th>\n",
       "      <td>0.530245</td>\n",
       "    </tr>\n",
       "    <tr>\n",
       "      <th>151508</th>\n",
       "      <td>0.496847</td>\n",
       "    </tr>\n",
       "    <tr>\n",
       "      <th>151509</th>\n",
       "      <td>0.547259</td>\n",
       "    </tr>\n",
       "    <tr>\n",
       "      <th>151510</th>\n",
       "      <td>0.592769</td>\n",
       "    </tr>\n",
       "    <tr>\n",
       "      <th>151669</th>\n",
       "      <td>0.487266</td>\n",
       "    </tr>\n",
       "    <tr>\n",
       "      <th>151670</th>\n",
       "      <td>0.618164</td>\n",
       "    </tr>\n",
       "    <tr>\n",
       "      <th>151671</th>\n",
       "      <td>0.594147</td>\n",
       "    </tr>\n",
       "    <tr>\n",
       "      <th>151672</th>\n",
       "      <td>0.753233</td>\n",
       "    </tr>\n",
       "    <tr>\n",
       "      <th>151673</th>\n",
       "      <td>0.675591</td>\n",
       "    </tr>\n",
       "    <tr>\n",
       "      <th>151674</th>\n",
       "      <td>0.433779</td>\n",
       "    </tr>\n",
       "    <tr>\n",
       "      <th>151675</th>\n",
       "      <td>0.662748</td>\n",
       "    </tr>\n",
       "    <tr>\n",
       "      <th>151676</th>\n",
       "      <td>0.512473</td>\n",
       "    </tr>\n",
       "  </tbody>\n",
       "</table>\n",
       "</div>"
      ],
      "text/plain": [
       "             max\n",
       "sample          \n",
       "151507  0.530245\n",
       "151508  0.496847\n",
       "151509  0.547259\n",
       "151510  0.592769\n",
       "151669  0.487266\n",
       "151670  0.618164\n",
       "151671  0.594147\n",
       "151672  0.753233\n",
       "151673  0.675591\n",
       "151674  0.433779\n",
       "151675  0.662748\n",
       "151676  0.512473"
      ]
     },
     "execution_count": 26,
     "metadata": {},
     "output_type": "execute_result"
    }
   ],
   "source": [
    "rst_all.groupby(by='sample').agg(['max'])['sotip_ari']"
   ]
  },
  {
   "cell_type": "code",
   "execution_count": null,
   "id": "b6594b30-6e3a-4c8d-bd5e-fc5572fb0e53",
   "metadata": {},
   "outputs": [],
   "source": []
  }
 ],
 "metadata": {
  "kernelspec": {
   "display_name": "SOTIP",
   "language": "python",
   "name": "sotip"
  },
  "language_info": {
   "codemirror_mode": {
    "name": "ipython",
    "version": 3
   },
   "file_extension": ".py",
   "mimetype": "text/x-python",
   "name": "python",
   "nbconvert_exporter": "python",
   "pygments_lexer": "ipython3",
   "version": "3.9.7"
  }
 },
 "nbformat": 4,
 "nbformat_minor": 5
}
