{
 "cells": [
  {
   "cell_type": "code",
   "execution_count": 15,
   "id": "762580b4-464a-43fc-be41-2dc2b903c267",
   "metadata": {},
   "outputs": [],
   "source": [
    "from multipy.fdr import lsu,qvalue\n",
    "from multipy.data import neuhaus\n",
    "\n",
    "pvals = neuhaus()\n",
    "significant_pvals = lsu(pvals, q=0.05)\n",
    "rst = zip(['{:.4f}'.format(p) for p in pvals], significant_pvals)"
   ]
  },
  {
   "cell_type": "code",
   "execution_count": 17,
   "id": "b35247a7-a4df-4f38-af8b-544896f0f384",
   "metadata": {},
   "outputs": [],
   "source": [
    "from pingouin import *"
   ]
  },
  {
   "cell_type": "code",
   "execution_count": 18,
   "id": "1d452bd2-66f6-4c00-97da-99c3f2fbb905",
   "metadata": {},
   "outputs": [
    {
     "data": {
      "text/plain": [
       "(array([ True,  True,  True, False, False, False, False, False, False,\n",
       "        False, False, False, False, False, False]),\n",
       " array([0.0015, 0.0056, 0.0247, 0.114 , 0.2211, 0.278 , 0.278 , 0.278 ,\n",
       "        0.3213, 1.    , 1.    , 1.    , 1.    , 1.    , 1.    ]))"
      ]
     },
     "execution_count": 18,
     "metadata": {},
     "output_type": "execute_result"
    }
   ],
   "source": [
    "multicomp(pvals)"
   ]
  },
  {
   "cell_type": "code",
   "execution_count": null,
   "id": "bc7a8621-029e-4c37-af30-8cd8af9dd895",
   "metadata": {},
   "outputs": [],
   "source": []
  }
 ],
 "metadata": {
  "kernelspec": {
   "display_name": "SOTIP",
   "language": "python",
   "name": "sotip"
  },
  "language_info": {
   "codemirror_mode": {
    "name": "ipython",
    "version": 3
   },
   "file_extension": ".py",
   "mimetype": "text/x-python",
   "name": "python",
   "nbconvert_exporter": "python",
   "pygments_lexer": "ipython3",
   "version": "3.9.7"
  }
 },
 "nbformat": 4,
 "nbformat_minor": 5
}
